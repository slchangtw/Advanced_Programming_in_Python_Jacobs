{
 "cells": [
  {
   "cell_type": "code",
   "execution_count": 1,
   "metadata": {},
   "outputs": [
    {
     "ename": "NameError",
     "evalue": "name 'x' is not defined",
     "output_type": "error",
     "traceback": [
      "\u001b[0;31m---------------------------------------------------------------------------\u001b[0m",
      "\u001b[0;31mNameError\u001b[0m                                 Traceback (most recent call last)",
      "\u001b[0;32m<ipython-input-1-4559e240e6a8>\u001b[0m in \u001b[0;36m<module>\u001b[0;34m()\u001b[0m\n\u001b[0;32m----> 1\u001b[0;31m \u001b[0mmax\u001b[0m\u001b[0;34m(\u001b[0m\u001b[0mx\u001b[0m\u001b[0;34m.\u001b[0m\u001b[0miterkeys\u001b[0m\u001b[0;34m(\u001b[0m\u001b[0;34m)\u001b[0m\u001b[0;34m)\u001b[0m\u001b[0;34m\u001b[0m\u001b[0m\n\u001b[0m",
      "\u001b[0;31mNameError\u001b[0m: name 'x' is not defined"
     ]
    }
   ],
   "source": []
  },
  {
   "cell_type": "code",
   "execution_count": 2,
   "metadata": {},
   "outputs": [],
   "source": [
    "x = {\"A\": 2, \"B\": 1}"
   ]
  },
  {
   "cell_type": "code",
   "execution_count": 3,
   "metadata": {},
   "outputs": [
    {
     "ename": "AttributeError",
     "evalue": "'dict' object has no attribute 'iterkeys'",
     "output_type": "error",
     "traceback": [
      "\u001b[0;31m---------------------------------------------------------------------------\u001b[0m",
      "\u001b[0;31mAttributeError\u001b[0m                            Traceback (most recent call last)",
      "\u001b[0;32m<ipython-input-3-4559e240e6a8>\u001b[0m in \u001b[0;36m<module>\u001b[0;34m()\u001b[0m\n\u001b[0;32m----> 1\u001b[0;31m \u001b[0mmax\u001b[0m\u001b[0;34m(\u001b[0m\u001b[0mx\u001b[0m\u001b[0;34m.\u001b[0m\u001b[0miterkeys\u001b[0m\u001b[0;34m(\u001b[0m\u001b[0;34m)\u001b[0m\u001b[0;34m)\u001b[0m\u001b[0;34m\u001b[0m\u001b[0m\n\u001b[0m",
      "\u001b[0;31mAttributeError\u001b[0m: 'dict' object has no attribute 'iterkeys'"
     ]
    }
   ],
   "source": [
    "max(x.iterkeys())"
   ]
  },
  {
   "cell_type": "code",
   "execution_count": 5,
   "metadata": {},
   "outputs": [
    {
     "data": {
      "text/plain": [
       "'A'"
      ]
     },
     "execution_count": 5,
     "metadata": {},
     "output_type": "execute_result"
    }
   ],
   "source": [
    "max(x, key=x.get)"
   ]
  },
  {
   "cell_type": "code",
   "execution_count": 70,
   "metadata": {},
   "outputs": [],
   "source": [
    "from random import random\n",
    "\n",
    "def printIntro():\n",
    "    # Prints an introduction to the program\n",
    "    \n",
    "    print(\"This program simulates a game of racquetball between two\") \n",
    "    print('players called \"A\" and \"B\". The abilities of each player is') \n",
    "    print(\"indicated by a probability (a number between 0 and 1) that\") \n",
    "    print(\"the player wins the point when serving. Player A always\") \n",
    "    print(\"has the first serve.\\n\")\n",
    "    \n",
    "def getInputs():\n",
    "    # RETURNS probA, probB, number of games to simulate\n",
    "    \n",
    "    a = float(input(\"What is the prob. player A wins a serve? \"))\n",
    "    b = float(input(\"What is the prob. player B wins a serve? \"))\n",
    "    n = int(input(\"How many games to simulate? \"))\n",
    "    prob_dict = {\"A\": a, \"B\": b}\n",
    "    return prob_dict, n\n",
    "\n",
    "def gameOver(A, B):\n",
    "    # A and B are scores for players in a racquetball game \n",
    "    # RETURNS true if game is over, false otherwise \n",
    "    \n",
    "    return A == 15 or B == 15\n",
    "\n",
    "def switch(serving):\n",
    "    new_serving = ''\n",
    "    \n",
    "    if serving == \"A\":\n",
    "        new_serving = \"B\"\n",
    "    else: \n",
    "        new_serving = \"A\"\n",
    "    \n",
    "    return new_serving\n",
    "\n",
    "def simOneGame(prob_dict):\n",
    "    # Simulates a single game or racquetball between players A and B\n",
    "    # RETURNS A's final score, B's final score\n",
    "    \n",
    "    serving = \"A\"\n",
    "    score_dict = {\"A\": 0, \"B\": 0}\n",
    "    \n",
    "    while not gameOver(**score_dict):\n",
    "        if random() < prob_dict[serving]:\n",
    "            score_dict[serving] += 1\n",
    "        else:\n",
    "            serving = switch(serving)\n",
    "            \n",
    "    return score_dict\n",
    "\n",
    "def simNGames(n, prob_dict):\n",
    "    # Simulates n games of racquetball between players A and B \n",
    "    # RETURNS number of wins for A, number of wins for B\n",
    "    \n",
    "    wins_dict = {\"A\": 0, \"B\": 0}\n",
    "    for i in range(n):\n",
    "        score_dict = simOneGame(prob_dict) \n",
    "        \n",
    "        largest_key = max(score_dict, key=score_dict.get)\n",
    "        wins_dict[largest_key] += 1\n",
    "    \n",
    "    return wins_dict\n",
    "\n",
    "def printSummary(A, B):\n",
    "    # Prints a summary of wins for each player.\n",
    "    \n",
    "    n = A + B\n",
    "    print(\"\\nGames simulated: {0}\".format(n))\n",
    "    print(\"Wins for A: {0} ({1:0.1%})\".format(A, A/n))\n",
    "    print(\"Wins for B: {0} ({1:0.1%})\".format(B, B/n))\n",
    "    \n",
    "def main():\n",
    "    # main function\n",
    "    \n",
    "    printIntro()\n",
    "    prob_dict, n = getInputs()\n",
    "    wins_dict = simNGames(n, prob_dict)\n",
    "    printSummary(**wins_dict)"
   ]
  },
  {
   "cell_type": "code",
   "execution_count": null,
   "metadata": {},
   "outputs": [],
   "source": []
  }
 ],
 "metadata": {
  "kernelspec": {
   "display_name": "Python 3",
   "language": "python",
   "name": "python3"
  },
  "language_info": {
   "codemirror_mode": {
    "name": "ipython",
    "version": 3
   },
   "file_extension": ".py",
   "mimetype": "text/x-python",
   "name": "python",
   "nbconvert_exporter": "python",
   "pygments_lexer": "ipython3",
   "version": "3.6.2"
  }
 },
 "nbformat": 4,
 "nbformat_minor": 2
}
